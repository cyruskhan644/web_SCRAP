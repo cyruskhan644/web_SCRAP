{
 "cells": [
  {
   "cell_type": "code",
   "execution_count": 7,
   "id": "900dd013",
   "metadata": {},
   "outputs": [],
   "source": [
    "# step 1: import the required libraries \n",
    "import pandas as pd"
   ]
  },
  {
   "cell_type": "markdown",
   "id": "c4257709",
   "metadata": {},
   "source": [
    "\n",
    "\n",
    "**WORLD** **POPULATION**"
   ]
  },
  {
   "cell_type": "code",
   "execution_count": 8,
   "id": "afa3116b",
   "metadata": {},
   "outputs": [
    {
     "name": "stdout",
     "output_type": "stream",
     "text": [
      "Number of tables found: 27\n",
      "      Population         1     2     3     4     5     6     7     8     9  \\\n",
      "0           Year      1804  1927  1960  1974  1987  1999  2011  2022  2037   \n",
      "1  Years elapsed  200,000+   123    33    14    13    12    12    11    15   \n",
      "\n",
      "     10  \n",
      "0  2057  \n",
      "1    20  \n"
     ]
    }
   ],
   "source": [
    "# step 1: import the required libraries \n",
    "import pandas as pd\n",
    "\n",
    "# step 2: load the URL for world population on wikipedia \n",
    "url = \"https://en.wikipedia.org/wiki/World_population\"\n",
    "\n",
    "try:\n",
    "    # step 3: Read the HTML tables from the URL with additional parameters\n",
    "    tables = pd.read_html(url, flavor='html5lib')  # Try using html5lib parser\n",
    "    \n",
    "    # step 4: check the number of tables \n",
    "    print(f\"Number of tables found: {len(tables)}\") \n",
    "    \n",
    "    if len(tables) > 0:\n",
    "        # step 5: Display the first few rows of the first table\n",
    "        print(tables[0].head())\n",
    "    else:\n",
    "        print(\"No tables found on the page.\")\n",
    "        \n",
    "except Exception as e:\n",
    "    print(f\"An error occurred: {e}\")\n",
    "    print(\"Trying alternative approach with requests and BeautifulSoup...\")\n",
    "    \n",
    "    # Alternative approach using requests and BeautifulSoup\n",
    "    try:\n",
    "        import requests\n",
    "        from bs4 import BeautifulSoup\n",
    "        \n",
    "        response = requests.get(url)\n",
    "        soup = BeautifulSoup(response.text, 'html.parser')\n",
    "        tables = pd.read_html(str(soup.find_all('table')))\n",
    "        \n",
    "        print(f\"Number of tables found: {len(tables)}\") \n",
    "        if len(tables) > 0:\n",
    "            print(tables[0].head())\n",
    "            \n",
    "    except Exception as e2:\n",
    "        print(f\"Failed with alternative approach: {e2}\")\n",
    "        print(\"Please check your internet connection or try again later.\")"
   ]
  },
  {
   "cell_type": "code",
   "execution_count": 9,
   "id": "2425988b",
   "metadata": {},
   "outputs": [],
   "source": [
    "# !pip install html5lib -q"
   ]
  },
  {
   "cell_type": "code",
   "execution_count": 10,
   "id": "18e19d6c",
   "metadata": {},
   "outputs": [
    {
     "name": "stdout",
     "output_type": "stream",
     "text": [
      "Requirement already satisfied: lxml in c:\\users\\hp\\miniconda3\\envs\\web_env\\lib\\site-packages (5.4.0)\n",
      "Note: you may need to restart the kernel to use updated packages.\n",
      "Number of tables found: 27\n"
     ]
    },
    {
     "data": {
      "text/html": [
       "<div>\n",
       "<style scoped>\n",
       "    .dataframe tbody tr th:only-of-type {\n",
       "        vertical-align: middle;\n",
       "    }\n",
       "\n",
       "    .dataframe tbody tr th {\n",
       "        vertical-align: top;\n",
       "    }\n",
       "\n",
       "    .dataframe thead th {\n",
       "        text-align: right;\n",
       "    }\n",
       "</style>\n",
       "<table border=\"1\" class=\"dataframe\">\n",
       "  <thead>\n",
       "    <tr style=\"text-align: right;\">\n",
       "      <th></th>\n",
       "      <th>Population</th>\n",
       "      <th>1</th>\n",
       "      <th>2</th>\n",
       "      <th>3</th>\n",
       "      <th>4</th>\n",
       "      <th>5</th>\n",
       "      <th>6</th>\n",
       "      <th>7</th>\n",
       "      <th>8</th>\n",
       "      <th>9</th>\n",
       "      <th>10</th>\n",
       "    </tr>\n",
       "  </thead>\n",
       "  <tbody>\n",
       "    <tr>\n",
       "      <th>0</th>\n",
       "      <td>Year</td>\n",
       "      <td>1804</td>\n",
       "      <td>1927</td>\n",
       "      <td>1960</td>\n",
       "      <td>1974</td>\n",
       "      <td>1987</td>\n",
       "      <td>1999</td>\n",
       "      <td>2011</td>\n",
       "      <td>2022</td>\n",
       "      <td>2037</td>\n",
       "      <td>2057</td>\n",
       "    </tr>\n",
       "    <tr>\n",
       "      <th>1</th>\n",
       "      <td>Years elapsed</td>\n",
       "      <td>200,000+</td>\n",
       "      <td>123</td>\n",
       "      <td>33</td>\n",
       "      <td>14</td>\n",
       "      <td>13</td>\n",
       "      <td>12</td>\n",
       "      <td>12</td>\n",
       "      <td>11</td>\n",
       "      <td>15</td>\n",
       "      <td>20</td>\n",
       "    </tr>\n",
       "  </tbody>\n",
       "</table>\n",
       "</div>"
      ],
      "text/plain": [
       "      Population         1     2     3     4     5     6     7     8     9  \\\n",
       "0           Year      1804  1927  1960  1974  1987  1999  2011  2022  2037   \n",
       "1  Years elapsed  200,000+   123    33    14    13    12    12    11    15   \n",
       "\n",
       "     10  \n",
       "0  2057  \n",
       "1    20  "
      ]
     },
     "execution_count": 10,
     "metadata": {},
     "output_type": "execute_result"
    }
   ],
   "source": [
    "%pip install lxml\n",
    "\n",
    "# step 1: import the required libraries \n",
    "import pandas as pd\n",
    "# step 2: load the URL for world population on wikipedia \n",
    "url = \"https://en.wikipedia.org/wiki/World_population\"\n",
    "# step 3: Read the HTML tables from the URL \n",
    "tables = pd.read_html(url) \n",
    "# step 4: check the number of tables \n",
    "print(f\"Number of tables found: {len(tables)}\") \n",
    "# step 5: Display the first few rows of the first table\n",
    "tables[0].head()"
   ]
  },
  {
   "cell_type": "code",
   "execution_count": null,
   "id": "4d98a628",
   "metadata": {},
   "outputs": [],
   "source": [
    "https://en.wikipedia.org/wiki/List_of_countries_by_GDP_(nominal)"
   ]
  },
  {
   "cell_type": "markdown",
   "id": "dcef5ec9",
   "metadata": {},
   "source": [
    "**List of countries by GDP (nominal)**"
   ]
  },
  {
   "cell_type": "code",
   "execution_count": 12,
   "id": "1cad5df4",
   "metadata": {},
   "outputs": [
    {
     "name": "stdout",
     "output_type": "stream",
     "text": [
      "Number of tables found: 7\n"
     ]
    },
    {
     "data": {
      "text/html": [
       "<div>\n",
       "<style scoped>\n",
       "    .dataframe tbody tr th:only-of-type {\n",
       "        vertical-align: middle;\n",
       "    }\n",
       "\n",
       "    .dataframe tbody tr th {\n",
       "        vertical-align: top;\n",
       "    }\n",
       "\n",
       "    .dataframe thead th {\n",
       "        text-align: right;\n",
       "    }\n",
       "</style>\n",
       "<table border=\"1\" class=\"dataframe\">\n",
       "  <thead>\n",
       "    <tr style=\"text-align: right;\">\n",
       "      <th></th>\n",
       "      <th>0</th>\n",
       "    </tr>\n",
       "  </thead>\n",
       "  <tbody>\n",
       "    <tr>\n",
       "      <th>0</th>\n",
       "      <td>Largest economies in the world by GDP (nominal...</td>\n",
       "    </tr>\n",
       "  </tbody>\n",
       "</table>\n",
       "</div>"
      ],
      "text/plain": [
       "                                                   0\n",
       "0  Largest economies in the world by GDP (nominal..."
      ]
     },
     "execution_count": 12,
     "metadata": {},
     "output_type": "execute_result"
    }
   ],
   "source": [
    "# step 1: import the required libraries \n",
    "import pandas as pd\n",
    "# step 2: load the URL for world population on wikipedia \n",
    "url = \"https://en.wikipedia.org/wiki/List_of_countries_by_GDP_(nominal)\"\n",
    "# step 3: Read the HTML tables from the URL \n",
    "tables = pd.read_html(url) \n",
    "# step 4: check the number of tables \n",
    "print(f\"Number of tables found: {len(tables)}\") \n",
    "# step 5: Display the first few rows of the first table\n",
    "tables[0].head()"
   ]
  },
  {
   "cell_type": "code",
   "execution_count": 13,
   "id": "742b1559",
   "metadata": {},
   "outputs": [
    {
     "data": {
      "text/html": [
       "<div>\n",
       "<style scoped>\n",
       "    .dataframe tbody tr th:only-of-type {\n",
       "        vertical-align: middle;\n",
       "    }\n",
       "\n",
       "    .dataframe tbody tr th {\n",
       "        vertical-align: top;\n",
       "    }\n",
       "\n",
       "    .dataframe thead th {\n",
       "        text-align: right;\n",
       "    }\n",
       "</style>\n",
       "<table border=\"1\" class=\"dataframe\">\n",
       "  <thead>\n",
       "    <tr style=\"text-align: right;\">\n",
       "      <th></th>\n",
       "      <th>0</th>\n",
       "      <th>1</th>\n",
       "      <th>2</th>\n",
       "    </tr>\n",
       "  </thead>\n",
       "  <tbody>\n",
       "    <tr>\n",
       "      <th>0</th>\n",
       "      <td>&gt; $20 trillion $10–20 trillion $5–10 trillion ...</td>\n",
       "      <td>$750 billion – $1 trillion $500–750 billion $2...</td>\n",
       "      <td>$50–100 billion $25–50 billion $5–25 billion &lt;...</td>\n",
       "    </tr>\n",
       "  </tbody>\n",
       "</table>\n",
       "</div>"
      ],
      "text/plain": [
       "                                                   0  \\\n",
       "0  > $20 trillion $10–20 trillion $5–10 trillion ...   \n",
       "\n",
       "                                                   1  \\\n",
       "0  $750 billion – $1 trillion $500–750 billion $2...   \n",
       "\n",
       "                                                   2  \n",
       "0  $50–100 billion $25–50 billion $5–25 billion <...  "
      ]
     },
     "execution_count": 13,
     "metadata": {},
     "output_type": "execute_result"
    }
   ],
   "source": [
    "tables[1].head()\n"
   ]
  },
  {
   "cell_type": "code",
   "execution_count": 14,
   "id": "f27193fe",
   "metadata": {},
   "outputs": [
    {
     "data": {
      "text/html": [
       "<div>\n",
       "<style scoped>\n",
       "    .dataframe tbody tr th:only-of-type {\n",
       "        vertical-align: middle;\n",
       "    }\n",
       "\n",
       "    .dataframe tbody tr th {\n",
       "        vertical-align: top;\n",
       "    }\n",
       "\n",
       "    .dataframe thead th {\n",
       "        text-align: right;\n",
       "    }\n",
       "</style>\n",
       "<table border=\"1\" class=\"dataframe\">\n",
       "  <thead>\n",
       "    <tr style=\"text-align: right;\">\n",
       "      <th></th>\n",
       "      <th>vteEconomic classification of countries</th>\n",
       "      <th>vteEconomic classification of countries.1</th>\n",
       "    </tr>\n",
       "  </thead>\n",
       "  <tbody>\n",
       "    <tr>\n",
       "      <th>0</th>\n",
       "      <td>Developed country Developing country Heavily i...</td>\n",
       "      <td>Developed country Developing country Heavily i...</td>\n",
       "    </tr>\n",
       "    <tr>\n",
       "      <th>1</th>\n",
       "      <td>Three/Four-World Model</td>\n",
       "      <td>First World Second World Third World Fourth World</td>\n",
       "    </tr>\n",
       "    <tr>\n",
       "      <th>2</th>\n",
       "      <td>Gross domestic product (GDP)</td>\n",
       "      <td>Nominal By country past and projected per capi...</td>\n",
       "    </tr>\n",
       "    <tr>\n",
       "      <th>3</th>\n",
       "      <td>Nominal</td>\n",
       "      <td>By country past and projected per capita per c...</td>\n",
       "    </tr>\n",
       "    <tr>\n",
       "      <th>4</th>\n",
       "      <td>Purchasing power parity (PPP)</td>\n",
       "      <td>By country future estimates per capita per cap...</td>\n",
       "    </tr>\n",
       "  </tbody>\n",
       "</table>\n",
       "</div>"
      ],
      "text/plain": [
       "             vteEconomic classification of countries  \\\n",
       "0  Developed country Developing country Heavily i...   \n",
       "1                             Three/Four-World Model   \n",
       "2                       Gross domestic product (GDP)   \n",
       "3                                            Nominal   \n",
       "4                      Purchasing power parity (PPP)   \n",
       "\n",
       "           vteEconomic classification of countries.1  \n",
       "0  Developed country Developing country Heavily i...  \n",
       "1  First World Second World Third World Fourth World  \n",
       "2  Nominal By country past and projected per capi...  \n",
       "3  By country past and projected per capita per c...  \n",
       "4  By country future estimates per capita per cap...  "
      ]
     },
     "execution_count": 14,
     "metadata": {},
     "output_type": "execute_result"
    }
   ],
   "source": [
    "tables[5].head()"
   ]
  },
  {
   "cell_type": "code",
   "execution_count": 16,
   "id": "7a7e823b",
   "metadata": {},
   "outputs": [
    {
     "data": {
      "text/html": [
       "<div>\n",
       "<style scoped>\n",
       "    .dataframe tbody tr th:only-of-type {\n",
       "        vertical-align: middle;\n",
       "    }\n",
       "\n",
       "    .dataframe tbody tr th {\n",
       "        vertical-align: top;\n",
       "    }\n",
       "\n",
       "    .dataframe thead th {\n",
       "        text-align: right;\n",
       "    }\n",
       "</style>\n",
       "<table border=\"1\" class=\"dataframe\">\n",
       "  <thead>\n",
       "    <tr style=\"text-align: right;\">\n",
       "      <th></th>\n",
       "      <th>0</th>\n",
       "      <th>1</th>\n",
       "    </tr>\n",
       "  </thead>\n",
       "  <tbody>\n",
       "    <tr>\n",
       "      <th>0</th>\n",
       "      <td>Nominal</td>\n",
       "      <td>By country past and projected per capita per c...</td>\n",
       "    </tr>\n",
       "    <tr>\n",
       "      <th>1</th>\n",
       "      <td>Purchasing power parity (PPP)</td>\n",
       "      <td>By country future estimates per capita per cap...</td>\n",
       "    </tr>\n",
       "  </tbody>\n",
       "</table>\n",
       "</div>"
      ],
      "text/plain": [
       "                               0  \\\n",
       "0                        Nominal   \n",
       "1  Purchasing power parity (PPP)   \n",
       "\n",
       "                                                   1  \n",
       "0  By country past and projected per capita per c...  \n",
       "1  By country future estimates per capita per cap...  "
      ]
     },
     "execution_count": 16,
     "metadata": {},
     "output_type": "execute_result"
    }
   ],
   "source": [
    "tables[6].head()"
   ]
  }
 ],
 "metadata": {
  "kernelspec": {
   "display_name": "web_env",
   "language": "python",
   "name": "python3"
  },
  "language_info": {
   "codemirror_mode": {
    "name": "ipython",
    "version": 3
   },
   "file_extension": ".py",
   "mimetype": "text/x-python",
   "name": "python",
   "nbconvert_exporter": "python",
   "pygments_lexer": "ipython3",
   "version": "3.11.11"
  }
 },
 "nbformat": 4,
 "nbformat_minor": 5
}
